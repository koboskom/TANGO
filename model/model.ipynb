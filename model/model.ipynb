{
  "cells": [
    {
      "cell_type": "markdown",
      "metadata": {
        "id": "WhthvxJJKPLS"
      },
      "source": [
        "Data preparation"
      ]
    },
    {
      "cell_type": "code",
      "execution_count": null,
      "metadata": {
        "colab": {
          "base_uri": "https://localhost:8080/"
        },
        "id": "qfdpmHGmJ8Je",
        "outputId": "54af4ab7-9a1f-47d5-f6fc-634d3a19aa1f"
      },
      "outputs": [],
      "source": [
        "import pandas as pd\n",
        "\n",
        "df = pd.read_csv(\"/content/merged_final.csv\")\n",
        "X = df[['File:', 'Blockiness:', 'SA:', 'Blockloss:', 'Blur:', 'TA:',\n",
        "       'Exposure(bri):', 'Contrast:', 'Noise:', 'Slice:', 'Flickering:']]\n",
        "Y = df[['Tag:']]\n",
        "for index, row in Y.iterrows():\n",
        "  if row['Tag:']=='P':\n",
        "    row['Tag:'] = int(1)\n",
        "  elif row['Tag:'] =='U':\n",
        "    row[\"Tag:\"]= int(0)\n",
        "X.drop('File:', inplace=True, axis=1)\n",
        "\n",
        "Y = Y.reset_index()\n",
        "X = X.reset_index()\n",
        "\n",
        "Y.drop('index', inplace=True, axis=1)\n",
        "X.drop('index', inplace=True, axis=1)\n",
        "X=(X-X.mean())/X.std()\n",
        "Y = Y['Tag:'].astype(str).astype(int)"
      ]
    },
    {
      "cell_type": "markdown",
      "metadata": {
        "id": "OoM0ZOPWKa3R"
      },
      "source": [
        "Parameters modeling"
      ]
    },
    {
      "cell_type": "code",
      "execution_count": null,
      "metadata": {
        "colab": {
          "base_uri": "https://localhost:8080/",
          "height": 345
        },
        "id": "b81-Hv3KKVI-",
        "outputId": "ea6090a8-5689-4b20-80df-7648009854d9"
      },
      "outputs": [],
      "source": [
        "import xgboost as xgb\n",
        "from sklearn.model_selection import GridSearchCV\n",
        "param_grid = {\n",
        "    \"max_depth\": [10,11,12],\n",
        "    \"scale_pos_weight\": [1,1.2,1.3],\n",
        "    \"learning_rate\": [0.22,0.3,0.35],\n",
        "    \"reg_lambda\": [0.5],\n",
        "    \"colsample_bytree\": [0.4,0.5,0.6],\n",
        "    \"gamma\": [0.2,0.3,0.4],\n",
        "}\n",
        "xgb_cl = xgb.XGBClassifier(objective=\"binary:logistic\")\n",
        "grid_cv = GridSearchCV(xgb_cl, param_grid, n_jobs=-1, cv=3, scoring=\"roc_auc\")\n",
        "_ = grid_cv.fit(X, Y)"
      ]
    },
    {
      "cell_type": "code",
      "execution_count": null,
      "metadata": {
        "id": "0r4ChHn_RLsb"
      },
      "outputs": [],
      "source": [
        "grid_cv.best_score_"
      ]
    },
    {
      "cell_type": "code",
      "execution_count": null,
      "metadata": {
        "id": "RtIEFLybRMw1"
      },
      "outputs": [],
      "source": [
        "grid_cv.best_params_"
      ]
    },
    {
      "cell_type": "markdown",
      "metadata": {
        "id": "u8hJSKmjKtrp"
      },
      "source": [
        "Model testing, random data split"
      ]
    },
    {
      "cell_type": "code",
      "execution_count": null,
      "metadata": {
        "colab": {
          "base_uri": "https://localhost:8080/"
        },
        "id": "oBd11lmVKxrI",
        "outputId": "b16167ff-43e2-4602-eab7-6489b1d1a3f9"
      },
      "outputs": [],
      "source": [
        "from sklearn.metrics import roc_auc_score\n",
        "import xgboost as xgb\n",
        "from sklearn.model_selection import train_test_split\n",
        "from sklearn.metrics import accuracy_score\n",
        "from sklearn.model_selection import GridSearchCV\n",
        "from sklearn.metrics import precision_recall_fscore_support\n",
        "import numpy as np\n",
        "import random\n",
        "\n",
        "randomlist = random.sample(range(1, 1000), 10)\n",
        "\n",
        "param_grid = {\n",
        "    \"max_depth\": [10],\n",
        "    \"scale_pos_weight\": [1.2],\n",
        "    \"learning_rate\": [0.22],\n",
        "    \"reg_lambda\": [0.5],\n",
        "    \"colsample_bytree\": [0.7],\n",
        "    \"gamma\": [0.3],\n",
        "}\n",
        "\n",
        "xgb_cl = xgb.XGBClassifier(objective=\"binary:logistic\")\n",
        "grid_cv = GridSearchCV(xgb_cl, param_grid, n_jobs=-1, cv=3, scoring=\"roc_auc\")\n",
        "_ = grid_cv.fit(X, Y)\n",
        "\n",
        "final_cl = xgb.XGBClassifier(\n",
        "    **grid_cv.best_params_,\n",
        "    objective=\"binary:logistic\",\n",
        "\n",
        ")\n",
        "\n",
        "accuracy_list = []\n",
        "for i in randomlist:\n",
        "  X_train, X_test, y_train, y_test = train_test_split(\n",
        "      X, Y, test_size=0.2, random_state=i\n",
        "  )\n",
        "  _ = final_cl.fit(X_train, y_train)\n",
        "\n",
        "  preds = final_cl.predict(X_test)\n",
        "  accuracy = accuracy_score(y_test, preds)\n",
        "  accuracy_list.append(accuracy)\n",
        "\n",
        "print(np.mean(accuracy_list))\n",
        "print(accuracy_list)"
      ]
    },
    {
      "cell_type": "markdown",
      "metadata": {},
      "source": [
        "Saving model "
      ]
    },
    {
      "cell_type": "code",
      "execution_count": null,
      "metadata": {},
      "outputs": [],
      "source": [
        "from sklearn.metrics import roc_auc_score\n",
        "import xgboost as xgb\n",
        "from sklearn.model_selection import train_test_split\n",
        "from sklearn.metrics import accuracy_score\n",
        "from sklearn.model_selection import GridSearchCV\n",
        "from sklearn.metrics import precision_recall_fscore_support\n",
        "import numpy as np\n",
        "import random\n",
        "import pickle\n",
        "\n",
        "randomlist = random.sample(range(1, 1000), 10)\n",
        "\n",
        "param_grid = {\n",
        "    \"max_depth\": [10],\n",
        "    \"scale_pos_weight\": [0.7],\n",
        "    \"learning_rate\": [0.12],\n",
        "    \"reg_lambda\": [0.7],\n",
        "    \"colsample_bytree\": [0.9],\n",
        "    \"gamma\": [0.3],\n",
        "}\n",
        "\n",
        "xgb_cl = xgb.XGBClassifier(objective=\"binary:logistic\")\n",
        "grid_cv = GridSearchCV(xgb_cl, param_grid, n_jobs=-1, cv=3, scoring=\"roc_auc\")\n",
        "_ = grid_cv.fit(X, Y)\n",
        "\n",
        "final_cl = xgb.XGBClassifier(\n",
        "    **grid_cv.best_params_,\n",
        "    objective=\"binary:logistic\",\n",
        "\n",
        ")\n",
        "\n",
        "accuracy_list = []\n",
        "X_train, X_test, y_train, y_test = train_test_split(\n",
        "    X, Y, test_size=0.2, random_state=1\n",
        ")\n",
        "_ = final_cl.fit(X, Y)\n",
        "# config path\n",
        "pickle.dump(final_cl, open(\"/content/12k_all_set_2f.json\", 'wb'))\n",
        "preds = final_cl.predict(X_test)\n",
        "accuracy = accuracy_score(y_test, preds)\n",
        "print(accuracy)"
      ]
    }
  ],
  "metadata": {
    "colab": {
      "collapsed_sections": [],
      "name": "model.ipynb",
      "provenance": []
    },
    "kernelspec": {
      "display_name": "Python 3",
      "name": "python3"
    },
    "language_info": {
      "name": "python"
    }
  },
  "nbformat": 4,
  "nbformat_minor": 0
}
